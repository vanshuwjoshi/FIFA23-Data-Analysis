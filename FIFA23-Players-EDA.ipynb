{
 "cells": [
  {
   "cell_type": "code",
   "execution_count": 1,
   "id": "77419423",
   "metadata": {},
   "outputs": [],
   "source": [
    "import pandas as pd\n",
    "import numpy as np\n",
    "import matplotlib.pyplot as plt\n",
    "import seaborn as sns\n",
    "%matplotlib inline\n",
    "import warnings\n",
    "warnings.filterwarnings('ignore')"
   ]
  },
  {
   "cell_type": "code",
   "execution_count": 2,
   "id": "a0968f03",
   "metadata": {},
   "outputs": [
    {
     "data": {
      "text/html": [
       "<div>\n",
       "<style scoped>\n",
       "    .dataframe tbody tr th:only-of-type {\n",
       "        vertical-align: middle;\n",
       "    }\n",
       "\n",
       "    .dataframe tbody tr th {\n",
       "        vertical-align: top;\n",
       "    }\n",
       "\n",
       "    .dataframe thead th {\n",
       "        text-align: right;\n",
       "    }\n",
       "</style>\n",
       "<table border=\"1\" class=\"dataframe\">\n",
       "  <thead>\n",
       "    <tr style=\"text-align: right;\">\n",
       "      <th></th>\n",
       "      <th>Known As</th>\n",
       "      <th>Full Name</th>\n",
       "      <th>Overall</th>\n",
       "      <th>Potential</th>\n",
       "      <th>Value(in Euro)</th>\n",
       "      <th>Positions Played</th>\n",
       "      <th>Best Position</th>\n",
       "      <th>Nationality</th>\n",
       "      <th>Image Link</th>\n",
       "      <th>Age</th>\n",
       "      <th>...</th>\n",
       "      <th>LM Rating</th>\n",
       "      <th>CM Rating</th>\n",
       "      <th>RM Rating</th>\n",
       "      <th>LWB Rating</th>\n",
       "      <th>CDM Rating</th>\n",
       "      <th>RWB Rating</th>\n",
       "      <th>LB Rating</th>\n",
       "      <th>CB Rating</th>\n",
       "      <th>RB Rating</th>\n",
       "      <th>GK Rating</th>\n",
       "    </tr>\n",
       "  </thead>\n",
       "  <tbody>\n",
       "    <tr>\n",
       "      <th>0</th>\n",
       "      <td>L. Messi</td>\n",
       "      <td>Lionel Messi</td>\n",
       "      <td>91</td>\n",
       "      <td>91</td>\n",
       "      <td>54000000</td>\n",
       "      <td>RW</td>\n",
       "      <td>CAM</td>\n",
       "      <td>Argentina</td>\n",
       "      <td>https://cdn.sofifa.net/players/158/023/23_60.png</td>\n",
       "      <td>35</td>\n",
       "      <td>...</td>\n",
       "      <td>91</td>\n",
       "      <td>88</td>\n",
       "      <td>91</td>\n",
       "      <td>67</td>\n",
       "      <td>66</td>\n",
       "      <td>67</td>\n",
       "      <td>62</td>\n",
       "      <td>53</td>\n",
       "      <td>62</td>\n",
       "      <td>22</td>\n",
       "    </tr>\n",
       "    <tr>\n",
       "      <th>1</th>\n",
       "      <td>K. Benzema</td>\n",
       "      <td>Karim Benzema</td>\n",
       "      <td>91</td>\n",
       "      <td>91</td>\n",
       "      <td>64000000</td>\n",
       "      <td>CF,ST</td>\n",
       "      <td>CF</td>\n",
       "      <td>France</td>\n",
       "      <td>https://cdn.sofifa.net/players/165/153/23_60.png</td>\n",
       "      <td>34</td>\n",
       "      <td>...</td>\n",
       "      <td>89</td>\n",
       "      <td>84</td>\n",
       "      <td>89</td>\n",
       "      <td>67</td>\n",
       "      <td>67</td>\n",
       "      <td>67</td>\n",
       "      <td>63</td>\n",
       "      <td>58</td>\n",
       "      <td>63</td>\n",
       "      <td>21</td>\n",
       "    </tr>\n",
       "    <tr>\n",
       "      <th>2</th>\n",
       "      <td>R. Lewandowski</td>\n",
       "      <td>Robert Lewandowski</td>\n",
       "      <td>91</td>\n",
       "      <td>91</td>\n",
       "      <td>84000000</td>\n",
       "      <td>ST</td>\n",
       "      <td>ST</td>\n",
       "      <td>Poland</td>\n",
       "      <td>https://cdn.sofifa.net/players/188/545/23_60.png</td>\n",
       "      <td>33</td>\n",
       "      <td>...</td>\n",
       "      <td>86</td>\n",
       "      <td>83</td>\n",
       "      <td>86</td>\n",
       "      <td>67</td>\n",
       "      <td>69</td>\n",
       "      <td>67</td>\n",
       "      <td>64</td>\n",
       "      <td>63</td>\n",
       "      <td>64</td>\n",
       "      <td>22</td>\n",
       "    </tr>\n",
       "    <tr>\n",
       "      <th>3</th>\n",
       "      <td>K. De Bruyne</td>\n",
       "      <td>Kevin De Bruyne</td>\n",
       "      <td>91</td>\n",
       "      <td>91</td>\n",
       "      <td>107500000</td>\n",
       "      <td>CM,CAM</td>\n",
       "      <td>CM</td>\n",
       "      <td>Belgium</td>\n",
       "      <td>https://cdn.sofifa.net/players/192/985/23_60.png</td>\n",
       "      <td>31</td>\n",
       "      <td>...</td>\n",
       "      <td>91</td>\n",
       "      <td>91</td>\n",
       "      <td>91</td>\n",
       "      <td>82</td>\n",
       "      <td>82</td>\n",
       "      <td>82</td>\n",
       "      <td>78</td>\n",
       "      <td>72</td>\n",
       "      <td>78</td>\n",
       "      <td>24</td>\n",
       "    </tr>\n",
       "    <tr>\n",
       "      <th>4</th>\n",
       "      <td>K. Mbappé</td>\n",
       "      <td>Kylian Mbappé</td>\n",
       "      <td>91</td>\n",
       "      <td>95</td>\n",
       "      <td>190500000</td>\n",
       "      <td>ST,LW</td>\n",
       "      <td>ST</td>\n",
       "      <td>France</td>\n",
       "      <td>https://cdn.sofifa.net/players/231/747/23_60.png</td>\n",
       "      <td>23</td>\n",
       "      <td>...</td>\n",
       "      <td>92</td>\n",
       "      <td>84</td>\n",
       "      <td>92</td>\n",
       "      <td>70</td>\n",
       "      <td>66</td>\n",
       "      <td>70</td>\n",
       "      <td>66</td>\n",
       "      <td>57</td>\n",
       "      <td>66</td>\n",
       "      <td>21</td>\n",
       "    </tr>\n",
       "  </tbody>\n",
       "</table>\n",
       "<p>5 rows × 89 columns</p>\n",
       "</div>"
      ],
      "text/plain": [
       "         Known As           Full Name  Overall  Potential  Value(in Euro)  \\\n",
       "0        L. Messi        Lionel Messi       91         91        54000000   \n",
       "1      K. Benzema       Karim Benzema       91         91        64000000   \n",
       "2  R. Lewandowski  Robert Lewandowski       91         91        84000000   \n",
       "3    K. De Bruyne     Kevin De Bruyne       91         91       107500000   \n",
       "4       K. Mbappé       Kylian Mbappé       91         95       190500000   \n",
       "\n",
       "  Positions Played Best Position Nationality  \\\n",
       "0               RW           CAM   Argentina   \n",
       "1            CF,ST            CF      France   \n",
       "2               ST            ST      Poland   \n",
       "3           CM,CAM            CM     Belgium   \n",
       "4            ST,LW            ST      France   \n",
       "\n",
       "                                         Image Link  Age  ...  LM Rating  \\\n",
       "0  https://cdn.sofifa.net/players/158/023/23_60.png   35  ...         91   \n",
       "1  https://cdn.sofifa.net/players/165/153/23_60.png   34  ...         89   \n",
       "2  https://cdn.sofifa.net/players/188/545/23_60.png   33  ...         86   \n",
       "3  https://cdn.sofifa.net/players/192/985/23_60.png   31  ...         91   \n",
       "4  https://cdn.sofifa.net/players/231/747/23_60.png   23  ...         92   \n",
       "\n",
       "   CM Rating  RM Rating  LWB Rating CDM Rating  RWB Rating  LB Rating  \\\n",
       "0         88         91          67         66          67         62   \n",
       "1         84         89          67         67          67         63   \n",
       "2         83         86          67         69          67         64   \n",
       "3         91         91          82         82          82         78   \n",
       "4         84         92          70         66          70         66   \n",
       "\n",
       "  CB Rating RB Rating GK Rating  \n",
       "0        53        62        22  \n",
       "1        58        63        21  \n",
       "2        63        64        22  \n",
       "3        72        78        24  \n",
       "4        57        66        21  \n",
       "\n",
       "[5 rows x 89 columns]"
      ]
     },
     "execution_count": 2,
     "metadata": {},
     "output_type": "execute_result"
    }
   ],
   "source": [
    "df = pd.read_csv(\"Fifa 23 Players Data.csv\")\n",
    "df.head()"
   ]
  },
  {
   "cell_type": "code",
   "execution_count": 3,
   "id": "eb36ad7e",
   "metadata": {},
   "outputs": [
    {
     "data": {
      "text/plain": [
       "Index(['Known As', 'Full Name', 'Overall', 'Potential', 'Value(in Euro)',\n",
       "       'Positions Played', 'Best Position', 'Nationality', 'Image Link', 'Age',\n",
       "       'Height(in cm)', 'Weight(in kg)', 'TotalStats', 'BaseStats',\n",
       "       'Club Name', 'Wage(in Euro)', 'Release Clause', 'Club Position',\n",
       "       'Contract Until', 'Club Jersey Number', 'Joined On', 'On Loan',\n",
       "       'Preferred Foot', 'Weak Foot Rating', 'Skill Moves',\n",
       "       'International Reputation', 'National Team Name',\n",
       "       'National Team Image Link', 'National Team Position',\n",
       "       'National Team Jersey Number', 'Attacking Work Rate',\n",
       "       'Defensive Work Rate', 'Pace Total', 'Shooting Total', 'Passing Total',\n",
       "       'Dribbling Total', 'Defending Total', 'Physicality Total', 'Crossing',\n",
       "       'Finishing', 'Heading Accuracy', 'Short Passing', 'Volleys',\n",
       "       'Dribbling', 'Curve', 'Freekick Accuracy', 'LongPassing', 'BallControl',\n",
       "       'Acceleration', 'Sprint Speed', 'Agility', 'Reactions', 'Balance',\n",
       "       'Shot Power', 'Jumping', 'Stamina', 'Strength', 'Long Shots',\n",
       "       'Aggression', 'Interceptions', 'Positioning', 'Vision', 'Penalties',\n",
       "       'Composure', 'Marking', 'Standing Tackle', 'Sliding Tackle',\n",
       "       'Goalkeeper Diving', 'Goalkeeper Handling', ' GoalkeeperKicking',\n",
       "       'Goalkeeper Positioning', 'Goalkeeper Reflexes', 'ST Rating',\n",
       "       'LW Rating', 'LF Rating', 'CF Rating', 'RF Rating', 'RW Rating',\n",
       "       'CAM Rating', 'LM Rating', 'CM Rating', 'RM Rating', 'LWB Rating',\n",
       "       'CDM Rating', 'RWB Rating', 'LB Rating', 'CB Rating', 'RB Rating',\n",
       "       'GK Rating'],\n",
       "      dtype='object')"
      ]
     },
     "execution_count": 3,
     "metadata": {},
     "output_type": "execute_result"
    }
   ],
   "source": [
    "df.columns"
   ]
  },
  {
   "cell_type": "code",
   "execution_count": 4,
   "id": "ff531c42",
   "metadata": {},
   "outputs": [
    {
     "name": "stdout",
     "output_type": "stream",
     "text": [
      "<class 'pandas.core.frame.DataFrame'>\n",
      "RangeIndex: 18539 entries, 0 to 18538\n",
      "Data columns (total 89 columns):\n",
      " #   Column                       Non-Null Count  Dtype \n",
      "---  ------                       --------------  ----- \n",
      " 0   Known As                     18539 non-null  object\n",
      " 1   Full Name                    18539 non-null  object\n",
      " 2   Overall                      18539 non-null  int64 \n",
      " 3   Potential                    18539 non-null  int64 \n",
      " 4   Value(in Euro)               18539 non-null  int64 \n",
      " 5   Positions Played             18539 non-null  object\n",
      " 6   Best Position                18539 non-null  object\n",
      " 7   Nationality                  18539 non-null  object\n",
      " 8   Image Link                   18539 non-null  object\n",
      " 9   Age                          18539 non-null  int64 \n",
      " 10  Height(in cm)                18539 non-null  int64 \n",
      " 11  Weight(in kg)                18539 non-null  int64 \n",
      " 12  TotalStats                   18539 non-null  int64 \n",
      " 13  BaseStats                    18539 non-null  int64 \n",
      " 14  Club Name                    18539 non-null  object\n",
      " 15  Wage(in Euro)                18539 non-null  int64 \n",
      " 16  Release Clause               18539 non-null  int64 \n",
      " 17  Club Position                18539 non-null  object\n",
      " 18  Contract Until               18539 non-null  object\n",
      " 19  Club Jersey Number           18539 non-null  object\n",
      " 20  Joined On                    18539 non-null  int64 \n",
      " 21  On Loan                      18539 non-null  object\n",
      " 22  Preferred Foot               18539 non-null  object\n",
      " 23  Weak Foot Rating             18539 non-null  int64 \n",
      " 24  Skill Moves                  18539 non-null  int64 \n",
      " 25  International Reputation     18539 non-null  int64 \n",
      " 26  National Team Name           18539 non-null  object\n",
      " 27  National Team Image Link     18539 non-null  object\n",
      " 28  National Team Position       18539 non-null  object\n",
      " 29  National Team Jersey Number  18539 non-null  object\n",
      " 30  Attacking Work Rate          18539 non-null  object\n",
      " 31  Defensive Work Rate          18539 non-null  object\n",
      " 32  Pace Total                   18539 non-null  int64 \n",
      " 33  Shooting Total               18539 non-null  int64 \n",
      " 34  Passing Total                18539 non-null  int64 \n",
      " 35  Dribbling Total              18539 non-null  int64 \n",
      " 36  Defending Total              18539 non-null  int64 \n",
      " 37  Physicality Total            18539 non-null  int64 \n",
      " 38  Crossing                     18539 non-null  int64 \n",
      " 39  Finishing                    18539 non-null  int64 \n",
      " 40  Heading Accuracy             18539 non-null  int64 \n",
      " 41  Short Passing                18539 non-null  int64 \n",
      " 42  Volleys                      18539 non-null  int64 \n",
      " 43  Dribbling                    18539 non-null  int64 \n",
      " 44  Curve                        18539 non-null  int64 \n",
      " 45  Freekick Accuracy            18539 non-null  int64 \n",
      " 46  LongPassing                  18539 non-null  int64 \n",
      " 47  BallControl                  18539 non-null  int64 \n",
      " 48  Acceleration                 18539 non-null  int64 \n",
      " 49  Sprint Speed                 18539 non-null  int64 \n",
      " 50  Agility                      18539 non-null  int64 \n",
      " 51  Reactions                    18539 non-null  int64 \n",
      " 52  Balance                      18539 non-null  int64 \n",
      " 53  Shot Power                   18539 non-null  int64 \n",
      " 54  Jumping                      18539 non-null  int64 \n",
      " 55  Stamina                      18539 non-null  int64 \n",
      " 56  Strength                     18539 non-null  int64 \n",
      " 57  Long Shots                   18539 non-null  int64 \n",
      " 58  Aggression                   18539 non-null  int64 \n",
      " 59  Interceptions                18539 non-null  int64 \n",
      " 60  Positioning                  18539 non-null  int64 \n",
      " 61  Vision                       18539 non-null  int64 \n",
      " 62  Penalties                    18539 non-null  int64 \n",
      " 63  Composure                    18539 non-null  int64 \n",
      " 64  Marking                      18539 non-null  int64 \n",
      " 65  Standing Tackle              18539 non-null  int64 \n",
      " 66  Sliding Tackle               18539 non-null  int64 \n",
      " 67  Goalkeeper Diving            18539 non-null  int64 \n",
      " 68  Goalkeeper Handling          18539 non-null  int64 \n",
      " 69   GoalkeeperKicking           18539 non-null  int64 \n",
      " 70  Goalkeeper Positioning       18539 non-null  int64 \n",
      " 71  Goalkeeper Reflexes          18539 non-null  int64 \n",
      " 72  ST Rating                    18539 non-null  int64 \n",
      " 73  LW Rating                    18539 non-null  int64 \n",
      " 74  LF Rating                    18539 non-null  int64 \n",
      " 75  CF Rating                    18539 non-null  int64 \n",
      " 76  RF Rating                    18539 non-null  int64 \n",
      " 77  RW Rating                    18539 non-null  int64 \n",
      " 78  CAM Rating                   18539 non-null  int64 \n",
      " 79  LM Rating                    18539 non-null  int64 \n",
      " 80  CM Rating                    18539 non-null  int64 \n",
      " 81  RM Rating                    18539 non-null  int64 \n",
      " 82  LWB Rating                   18539 non-null  int64 \n",
      " 83  CDM Rating                   18539 non-null  int64 \n",
      " 84  RWB Rating                   18539 non-null  int64 \n",
      " 85  LB Rating                    18539 non-null  int64 \n",
      " 86  CB Rating                    18539 non-null  int64 \n",
      " 87  RB Rating                    18539 non-null  int64 \n",
      " 88  GK Rating                    18539 non-null  int64 \n",
      "dtypes: int64(71), object(18)\n",
      "memory usage: 12.6+ MB\n"
     ]
    }
   ],
   "source": [
    "df.info()"
   ]
  },
  {
   "cell_type": "code",
   "execution_count": 5,
   "id": "f54fb3c4",
   "metadata": {},
   "outputs": [
    {
     "data": {
      "text/plain": [
       "(18539, 89)"
      ]
     },
     "execution_count": 5,
     "metadata": {},
     "output_type": "execute_result"
    }
   ],
   "source": [
    "df.shape"
   ]
  },
  {
   "cell_type": "code",
   "execution_count": 6,
   "id": "f061c0b7",
   "metadata": {},
   "outputs": [],
   "source": [
    "df = df.drop([\"Image Link\"], axis=1)"
   ]
  },
  {
   "cell_type": "code",
   "execution_count": 7,
   "id": "4ad94da7",
   "metadata": {},
   "outputs": [
    {
     "data": {
      "text/plain": [
       "Best Position\n",
       "CB     3658\n",
       "ST     2565\n",
       "CAM    2311\n",
       "GK     2061\n",
       "RM     1443\n",
       "CDM    1403\n",
       "CM     1104\n",
       "RB      925\n",
       "LB      864\n",
       "LM      797\n",
       "RWB     422\n",
       "LWB     404\n",
       "RW      297\n",
       "LW      215\n",
       "CF       70\n",
       "Name: count, dtype: int64"
      ]
     },
     "execution_count": 7,
     "metadata": {},
     "output_type": "execute_result"
    }
   ],
   "source": [
    "df[\"Best Position\"].value_counts()"
   ]
  },
  {
   "cell_type": "code",
   "execution_count": 8,
   "id": "05ad347e",
   "metadata": {},
   "outputs": [
    {
     "data": {
      "text/plain": [
       "Index(['CB', 'ST', 'CAM', 'GK', 'RM', 'CDM', 'CM', 'RB', 'LB', 'LM', 'RWB',\n",
       "       'LWB', 'RW', 'LW', 'CF'],\n",
       "      dtype='object', name='Best Position')"
      ]
     },
     "execution_count": 8,
     "metadata": {},
     "output_type": "execute_result"
    }
   ],
   "source": [
    "positions = df[\"Best Position\"].value_counts().index\n",
    "positions"
   ]
  },
  {
   "cell_type": "code",
   "execution_count": 9,
   "id": "498a0621",
   "metadata": {},
   "outputs": [],
   "source": [
    "def get_top_10(position):\n",
    "    df_position = df[df[\"Best Position\"] == position]\n",
    "    df_position = df_position.sort_values(by=\"Overall\", ascending=False).head(10)\n",
    "    df_position = df_position[\"Known As\"]\n",
    "    return df_position.tolist()"
   ]
  },
  {
   "cell_type": "code",
   "execution_count": 10,
   "id": "96a1c7d5",
   "metadata": {},
   "outputs": [
    {
     "name": "stdout",
     "output_type": "stream",
     "text": [
      "Top 10 Players for position:  CB\n",
      "['V. van Dijk', 'Marquinhos', 'Rúben Dias', 'A. Rüdiger', 'K. Koulibaly', 'D. Alaba', 'Thiago Silva', 'A. Laporte', 'M. Škriniar', 'M. de Ligt']\n",
      " \n",
      "Top 10 Players for position:  ST\n",
      "['R. Lewandowski', 'K. Mbappé', 'Cristiano Ronaldo', 'H. Kane', 'E. Haaland', 'C. Immobile', 'R. Lukaku', 'L. Martínez', 'P. Aubameyang', 'Gerard Moreno']\n",
      " \n",
      "Top 10 Players for position:  CAM\n",
      "['L. Messi', 'Bernardo Silva', 'T. Müller', 'P. Dybala', 'Bruno Fernandes', 'C. Nkunku', 'N. Fekir', 'P. Foden', 'M. Reus', 'M. Mount']\n",
      " \n",
      "Top 10 Players for position:  GK\n",
      "['T. Courtois', 'M. Neuer', 'J. Oblak', 'Ederson', 'Alisson', 'G. Donnarumma', 'K. Navas', 'M. ter Stegen', 'De Gea', 'M. Maignan']\n",
      " \n",
      "Top 10 Players for position:  RM\n",
      "['S. Gnabry', 'Canales', 'F. Chiesa', 'M. Diaby', 'L. Díaz', 'D. Berardi', 'Ronaldo Cabrais', 'C. Gakpo', 'Otávio', 'N. Mazraoui']\n",
      " \n",
      "Top 10 Players for position:  CDM\n",
      "['Casemiro', 'N. Kanté', 'J. Kimmich', 'Rodri', 'Fabinho', 'M. Brozović', 'Sergio Busquets', 'T. Partey', 'S. Tonali', 'D. Rice']\n",
      " \n",
      "Top 10 Players for position:  CM\n",
      "['K. De Bruyne', 'L. Modrić', 'T. Kroos', 'M. Verratti', 'T. Alexander-Arnold', 'L. Goretzka', 'F. de Jong', 'N. Barella', 'S. Milinković-Savić', 'Parejo']\n",
      " \n",
      "Top 10 Players for position:  RB\n",
      "['K. Walker', 'A. Hakimi', 'Carvajal', 'K. Trippier', 'J. Cuadrado', 'Jesús Navas', 'Ricardo Pereira', 'G. Di Lorenzo', 'Lucas Vázquez', 'A. Wan-Bissaka']\n",
      " \n",
      "Top 10 Players for position:  LB\n",
      "['João Cancelo', 'A. Robertson', 'Jordi Alba', 'M. Acuña', 'F. Mendy', 'Gayà', 'Grimaldo', 'Yuri Berchiche', 'L. Digne', 'Welington Dano']\n",
      " \n",
      "Top 10 Players for position:  LM\n",
      "['S. Mané', 'K. Coman', 'Y. Carrasco', 'F. Kostić', 'Muniain', 'I. Perišić', 'L. Sané', 'A. Davies', 'O. Dembélé', 'Raphinha']\n",
      " \n",
      "Top 10 Players for position:  RWB\n",
      "['R. James', 'D. Dumfries', 'Pedro Porro', 'J. Clauss', 'Nélson Semedo', 'M. Darmian', 'H. Hateboer', 'R. Karsdorp', 'G. Montiel', 'M. Cash']\n",
      " \n",
      "Top 10 Players for position:  LWB\n",
      "['T. Hernández', 'B. Chilwell', 'L. Spinazzola', 'R. Gosens', 'D. Raum', 'Cucurella', 'Adryan Zonta', 'K. Tierney', 'Renan Lodi', 'Reguilón']\n",
      " \n",
      "Top 10 Players for position:  RW\n",
      "['M. Salah', 'R. Mahrez', 'Á. Di María', 'H. Ziyech', 'Marco Asensio', 'Rafa', 'L. Ocampos', 'M. Politano', 'H. Lozano', 'B. Bourigeaud']\n",
      " \n",
      "Top 10 Players for position:  LW\n",
      "['Neymar Jr', 'H. Son', 'R. Sterling', 'Vinícius Jr.', 'D. Tadić', 'J. Grealish', 'E. Hazard', 'Rafael Leão', 'Oyarzabal', 'Ferran Torres']\n",
      " \n",
      "Top 10 Players for position:  CF\n",
      "['K. Benzema', 'M. Depay', 'D. Mertens', 'W. Ben Yedder', 'Á. Correa', 'Roberto Firmino', 'A. Kramarić', 'Anderson Talisca', 'R. Malinovskyi', 'Ricardo Horta']\n",
      " \n"
     ]
    }
   ],
   "source": [
    "for position in positions:\n",
    "    print(\"Top 10 Players for position: \", position)\n",
    "    print(get_top_10(position))\n",
    "    print(\" \")"
   ]
  },
  {
   "cell_type": "markdown",
   "id": "3c337a3c",
   "metadata": {},
   "source": [
    "Combine RWB to RB, LWB to LB, CF to ST, RM to RW, LM to LW"
   ]
  },
  {
   "cell_type": "code",
   "execution_count": 11,
   "id": "2dc2d668",
   "metadata": {},
   "outputs": [],
   "source": [
    "position_mapping = {\n",
    "    \"RM\": \"RW\",  ## changed\n",
    "    \"LM\": \"LW\",  ## changed\n",
    "    \"RWB\": \"RB\",  ## changed\n",
    "    \"LWB\": \"LB\",  ## changed\n",
    "    \"CF\": \"ST\",  ## changed\n",
    "}\n",
    "positions_to_be_changed = position_mapping.keys()\n",
    "for i in range(len(df)):\n",
    "    if df.loc[i, \"Best Position\"] in positions_to_be_changed:\n",
    "        df.loc[i, \"Best Position\"] = position_mapping.get(df.loc[i, \"Best Position\"])"
   ]
  },
  {
   "cell_type": "code",
   "execution_count": 12,
   "id": "3da134f3",
   "metadata": {},
   "outputs": [
    {
     "data": {
      "text/plain": [
       "['CB', 'ST', 'CAM', 'GK', 'RW', 'CDM', 'RB', 'LB', 'CM', 'LW']"
      ]
     },
     "execution_count": 12,
     "metadata": {},
     "output_type": "execute_result"
    }
   ],
   "source": [
    "df[\"Best Position\"].value_counts().index.tolist()"
   ]
  },
  {
   "cell_type": "code",
   "execution_count": 13,
   "id": "2f6e3f21",
   "metadata": {},
   "outputs": [
    {
     "name": "stdout",
     "output_type": "stream",
     "text": [
      "Top 10 Players for position:  CB\n",
      "['V. van Dijk', 'Marquinhos', 'Rúben Dias', 'A. Rüdiger', 'K. Koulibaly', 'D. Alaba', 'Thiago Silva', 'A. Laporte', 'M. Škriniar', 'M. de Ligt']\n",
      " \n",
      "Top 10 Players for position:  ST\n",
      "['K. Benzema', 'K. Mbappé', 'R. Lewandowski', 'Cristiano Ronaldo', 'H. Kane', 'E. Haaland', 'C. Immobile', 'R. Lukaku', 'L. Martínez', 'J. Vardy']\n",
      " \n",
      "Top 10 Players for position:  CAM\n",
      "['L. Messi', 'Bernardo Silva', 'T. Müller', 'P. Dybala', 'Bruno Fernandes', 'C. Nkunku', 'N. Fekir', 'P. Foden', 'M. Reus', 'M. Mount']\n",
      " \n",
      "Top 10 Players for position:  GK\n",
      "['T. Courtois', 'M. Neuer', 'J. Oblak', 'Ederson', 'Alisson', 'G. Donnarumma', 'K. Navas', 'M. ter Stegen', 'De Gea', 'M. Maignan']\n",
      " \n",
      "Top 10 Players for position:  RW\n",
      "['M. Salah', 'R. Mahrez', 'S. Gnabry', 'D. Berardi', 'Canales', 'Á. Di María', 'F. Chiesa', 'M. Diaby', 'L. Díaz', 'Marco Asensio']\n",
      " \n",
      "Top 10 Players for position:  CDM\n",
      "['Casemiro', 'N. Kanté', 'J. Kimmich', 'Rodri', 'Fabinho', 'M. Brozović', 'Sergio Busquets', 'T. Partey', 'S. Tonali', 'D. Rice']\n",
      " \n",
      "Top 10 Players for position:  RB\n",
      "['K. Walker', 'Carvajal', 'K. Trippier', 'R. James', 'A. Hakimi', 'J. Cuadrado', 'Jesús Navas', 'Ricardo Pereira', 'D. Dumfries', 'G. Di Lorenzo']\n",
      " \n",
      "Top 10 Players for position:  LB\n",
      "['João Cancelo', 'A. Robertson', 'Jordi Alba', 'M. Acuña', 'T. Hernández', 'F. Mendy', 'B. Chilwell', 'L. Digne', 'Yuri Berchiche', 'L. Spinazzola']\n",
      " \n",
      "Top 10 Players for position:  CM\n",
      "['K. De Bruyne', 'L. Modrić', 'T. Kroos', 'M. Verratti', 'T. Alexander-Arnold', 'L. Goretzka', 'F. de Jong', 'N. Barella', 'S. Milinković-Savić', 'Parejo']\n",
      " \n",
      "Top 10 Players for position:  LW\n",
      "['Neymar Jr', 'S. Mané', 'H. Son', 'R. Sterling', 'K. Coman', 'Vinícius Jr.', 'Y. Carrasco', 'F. Kostić', 'D. Tadić', 'Muniain']\n",
      " \n"
     ]
    }
   ],
   "source": [
    "# For each position get top 10 players:\n",
    "positions = df[\"Best Position\"].value_counts().index.tolist()\n",
    "for position in positions:\n",
    "    print(\"Top 10 Players for position: \", position)\n",
    "    print(get_top_10(position))\n",
    "    print(\" \")"
   ]
  },
  {
   "cell_type": "code",
   "execution_count": 14,
   "id": "b9b42fb2",
   "metadata": {},
   "outputs": [],
   "source": [
    "def get_top_10_category(data, category):\n",
    "    return (\n",
    "        data[\n",
    "            [\n",
    "                \"Known As\",\n",
    "                \"Overall\",\n",
    "                \"Potential\",\n",
    "                \"Nationality\",\n",
    "                \"Club Name\",\n",
    "                \"Best Position\",\n",
    "            ]\n",
    "        ]\n",
    "        .sort_values(by=category, ascending=False)\n",
    "        .head(10)\n",
    "    )"
   ]
  },
  {
   "cell_type": "code",
   "execution_count": 15,
   "id": "fa67a1d9",
   "metadata": {},
   "outputs": [
    {
     "data": {
      "text/html": [
       "<div>\n",
       "<style scoped>\n",
       "    .dataframe tbody tr th:only-of-type {\n",
       "        vertical-align: middle;\n",
       "    }\n",
       "\n",
       "    .dataframe tbody tr th {\n",
       "        vertical-align: top;\n",
       "    }\n",
       "\n",
       "    .dataframe thead th {\n",
       "        text-align: right;\n",
       "    }\n",
       "</style>\n",
       "<table border=\"1\" class=\"dataframe\">\n",
       "  <thead>\n",
       "    <tr style=\"text-align: right;\">\n",
       "      <th></th>\n",
       "      <th>Known As</th>\n",
       "      <th>Overall</th>\n",
       "      <th>Potential</th>\n",
       "      <th>Nationality</th>\n",
       "      <th>Club Name</th>\n",
       "      <th>Best Position</th>\n",
       "    </tr>\n",
       "  </thead>\n",
       "  <tbody>\n",
       "    <tr>\n",
       "      <th>0</th>\n",
       "      <td>L. Messi</td>\n",
       "      <td>91</td>\n",
       "      <td>91</td>\n",
       "      <td>Argentina</td>\n",
       "      <td>Paris Saint-Germain</td>\n",
       "      <td>CAM</td>\n",
       "    </tr>\n",
       "    <tr>\n",
       "      <th>2</th>\n",
       "      <td>R. Lewandowski</td>\n",
       "      <td>91</td>\n",
       "      <td>91</td>\n",
       "      <td>Poland</td>\n",
       "      <td>FC Barcelona</td>\n",
       "      <td>ST</td>\n",
       "    </tr>\n",
       "    <tr>\n",
       "      <th>3</th>\n",
       "      <td>K. De Bruyne</td>\n",
       "      <td>91</td>\n",
       "      <td>91</td>\n",
       "      <td>Belgium</td>\n",
       "      <td>Manchester City</td>\n",
       "      <td>CM</td>\n",
       "    </tr>\n",
       "    <tr>\n",
       "      <th>4</th>\n",
       "      <td>K. Mbappé</td>\n",
       "      <td>91</td>\n",
       "      <td>95</td>\n",
       "      <td>France</td>\n",
       "      <td>Paris Saint-Germain</td>\n",
       "      <td>ST</td>\n",
       "    </tr>\n",
       "    <tr>\n",
       "      <th>1</th>\n",
       "      <td>K. Benzema</td>\n",
       "      <td>91</td>\n",
       "      <td>91</td>\n",
       "      <td>France</td>\n",
       "      <td>Real Madrid CF</td>\n",
       "      <td>ST</td>\n",
       "    </tr>\n",
       "    <tr>\n",
       "      <th>5</th>\n",
       "      <td>M. Salah</td>\n",
       "      <td>90</td>\n",
       "      <td>90</td>\n",
       "      <td>Egypt</td>\n",
       "      <td>Liverpool</td>\n",
       "      <td>RW</td>\n",
       "    </tr>\n",
       "    <tr>\n",
       "      <th>6</th>\n",
       "      <td>T. Courtois</td>\n",
       "      <td>90</td>\n",
       "      <td>91</td>\n",
       "      <td>Belgium</td>\n",
       "      <td>Real Madrid CF</td>\n",
       "      <td>GK</td>\n",
       "    </tr>\n",
       "    <tr>\n",
       "      <th>7</th>\n",
       "      <td>M. Neuer</td>\n",
       "      <td>90</td>\n",
       "      <td>90</td>\n",
       "      <td>Germany</td>\n",
       "      <td>FC Bayern München</td>\n",
       "      <td>GK</td>\n",
       "    </tr>\n",
       "    <tr>\n",
       "      <th>8</th>\n",
       "      <td>Cristiano Ronaldo</td>\n",
       "      <td>90</td>\n",
       "      <td>90</td>\n",
       "      <td>Portugal</td>\n",
       "      <td>Manchester United</td>\n",
       "      <td>ST</td>\n",
       "    </tr>\n",
       "    <tr>\n",
       "      <th>9</th>\n",
       "      <td>V. van Dijk</td>\n",
       "      <td>90</td>\n",
       "      <td>90</td>\n",
       "      <td>Netherlands</td>\n",
       "      <td>Liverpool</td>\n",
       "      <td>CB</td>\n",
       "    </tr>\n",
       "  </tbody>\n",
       "</table>\n",
       "</div>"
      ],
      "text/plain": [
       "            Known As  Overall  Potential  Nationality            Club Name  \\\n",
       "0           L. Messi       91         91    Argentina  Paris Saint-Germain   \n",
       "2     R. Lewandowski       91         91       Poland         FC Barcelona   \n",
       "3       K. De Bruyne       91         91      Belgium      Manchester City   \n",
       "4          K. Mbappé       91         95       France  Paris Saint-Germain   \n",
       "1         K. Benzema       91         91       France       Real Madrid CF   \n",
       "5           M. Salah       90         90        Egypt            Liverpool   \n",
       "6        T. Courtois       90         91      Belgium       Real Madrid CF   \n",
       "7           M. Neuer       90         90      Germany    FC Bayern München   \n",
       "8  Cristiano Ronaldo       90         90     Portugal    Manchester United   \n",
       "9        V. van Dijk       90         90  Netherlands            Liverpool   \n",
       "\n",
       "  Best Position  \n",
       "0           CAM  \n",
       "2            ST  \n",
       "3            CM  \n",
       "4            ST  \n",
       "1            ST  \n",
       "5            RW  \n",
       "6            GK  \n",
       "7            GK  \n",
       "8            ST  \n",
       "9            CB  "
      ]
     },
     "execution_count": 15,
     "metadata": {},
     "output_type": "execute_result"
    }
   ],
   "source": [
    "# Get top 10 players based on Overall rating\n",
    "get_top_10_category(df, \"Overall\")"
   ]
  },
  {
   "cell_type": "code",
   "execution_count": 16,
   "id": "1eeee1f5",
   "metadata": {},
   "outputs": [
    {
     "data": {
      "text/html": [
       "<div>\n",
       "<style scoped>\n",
       "    .dataframe tbody tr th:only-of-type {\n",
       "        vertical-align: middle;\n",
       "    }\n",
       "\n",
       "    .dataframe tbody tr th {\n",
       "        vertical-align: top;\n",
       "    }\n",
       "\n",
       "    .dataframe thead th {\n",
       "        text-align: right;\n",
       "    }\n",
       "</style>\n",
       "<table border=\"1\" class=\"dataframe\">\n",
       "  <thead>\n",
       "    <tr style=\"text-align: right;\">\n",
       "      <th></th>\n",
       "      <th>Known As</th>\n",
       "      <th>Overall</th>\n",
       "      <th>Potential</th>\n",
       "      <th>Nationality</th>\n",
       "      <th>Club Name</th>\n",
       "      <th>Best Position</th>\n",
       "    </tr>\n",
       "  </thead>\n",
       "  <tbody>\n",
       "    <tr>\n",
       "      <th>4</th>\n",
       "      <td>K. Mbappé</td>\n",
       "      <td>91</td>\n",
       "      <td>95</td>\n",
       "      <td>France</td>\n",
       "      <td>Paris Saint-Germain</td>\n",
       "      <td>ST</td>\n",
       "    </tr>\n",
       "    <tr>\n",
       "      <th>21</th>\n",
       "      <td>E. Haaland</td>\n",
       "      <td>88</td>\n",
       "      <td>94</td>\n",
       "      <td>Norway</td>\n",
       "      <td>Manchester City</td>\n",
       "      <td>ST</td>\n",
       "    </tr>\n",
       "    <tr>\n",
       "      <th>82</th>\n",
       "      <td>Pedri</td>\n",
       "      <td>85</td>\n",
       "      <td>93</td>\n",
       "      <td>Spain</td>\n",
       "      <td>FC Barcelona</td>\n",
       "      <td>CM</td>\n",
       "    </tr>\n",
       "    <tr>\n",
       "      <th>83</th>\n",
       "      <td>P. Foden</td>\n",
       "      <td>85</td>\n",
       "      <td>92</td>\n",
       "      <td>England</td>\n",
       "      <td>Manchester City</td>\n",
       "      <td>CAM</td>\n",
       "    </tr>\n",
       "    <tr>\n",
       "      <th>63</th>\n",
       "      <td>Vinícius Jr.</td>\n",
       "      <td>86</td>\n",
       "      <td>92</td>\n",
       "      <td>Brazil</td>\n",
       "      <td>Real Madrid CF</td>\n",
       "      <td>LW</td>\n",
       "    </tr>\n",
       "    <tr>\n",
       "      <th>42</th>\n",
       "      <td>F. de Jong</td>\n",
       "      <td>87</td>\n",
       "      <td>92</td>\n",
       "      <td>Netherlands</td>\n",
       "      <td>FC Barcelona</td>\n",
       "      <td>CM</td>\n",
       "    </tr>\n",
       "    <tr>\n",
       "      <th>22</th>\n",
       "      <td>G. Donnarumma</td>\n",
       "      <td>88</td>\n",
       "      <td>92</td>\n",
       "      <td>Italy</td>\n",
       "      <td>Paris Saint-Germain</td>\n",
       "      <td>GK</td>\n",
       "    </tr>\n",
       "    <tr>\n",
       "      <th>0</th>\n",
       "      <td>L. Messi</td>\n",
       "      <td>91</td>\n",
       "      <td>91</td>\n",
       "      <td>Argentina</td>\n",
       "      <td>Paris Saint-Germain</td>\n",
       "      <td>CAM</td>\n",
       "    </tr>\n",
       "    <tr>\n",
       "      <th>16</th>\n",
       "      <td>Ederson</td>\n",
       "      <td>89</td>\n",
       "      <td>91</td>\n",
       "      <td>Brazil</td>\n",
       "      <td>Manchester City</td>\n",
       "      <td>GK</td>\n",
       "    </tr>\n",
       "    <tr>\n",
       "      <th>1</th>\n",
       "      <td>K. Benzema</td>\n",
       "      <td>91</td>\n",
       "      <td>91</td>\n",
       "      <td>France</td>\n",
       "      <td>Real Madrid CF</td>\n",
       "      <td>ST</td>\n",
       "    </tr>\n",
       "  </tbody>\n",
       "</table>\n",
       "</div>"
      ],
      "text/plain": [
       "         Known As  Overall  Potential  Nationality            Club Name  \\\n",
       "4       K. Mbappé       91         95       France  Paris Saint-Germain   \n",
       "21     E. Haaland       88         94       Norway      Manchester City   \n",
       "82          Pedri       85         93        Spain         FC Barcelona   \n",
       "83       P. Foden       85         92      England      Manchester City   \n",
       "63   Vinícius Jr.       86         92       Brazil       Real Madrid CF   \n",
       "42     F. de Jong       87         92  Netherlands         FC Barcelona   \n",
       "22  G. Donnarumma       88         92        Italy  Paris Saint-Germain   \n",
       "0        L. Messi       91         91    Argentina  Paris Saint-Germain   \n",
       "16        Ederson       89         91       Brazil      Manchester City   \n",
       "1      K. Benzema       91         91       France       Real Madrid CF   \n",
       "\n",
       "   Best Position  \n",
       "4             ST  \n",
       "21            ST  \n",
       "82            CM  \n",
       "83           CAM  \n",
       "63            LW  \n",
       "42            CM  \n",
       "22            GK  \n",
       "0            CAM  \n",
       "16            GK  \n",
       "1             ST  "
      ]
     },
     "execution_count": 16,
     "metadata": {},
     "output_type": "execute_result"
    }
   ],
   "source": [
    "# Get top 10 players based on Potential Rating\n",
    "get_top_10_category(df, \"Potential\")"
   ]
  },
  {
   "cell_type": "code",
   "execution_count": 17,
   "id": "713d246a",
   "metadata": {},
   "outputs": [
    {
     "data": {
      "text/html": [
       "<div>\n",
       "<style scoped>\n",
       "    .dataframe tbody tr th:only-of-type {\n",
       "        vertical-align: middle;\n",
       "    }\n",
       "\n",
       "    .dataframe tbody tr th {\n",
       "        vertical-align: top;\n",
       "    }\n",
       "\n",
       "    .dataframe thead th {\n",
       "        text-align: right;\n",
       "    }\n",
       "</style>\n",
       "<table border=\"1\" class=\"dataframe\">\n",
       "  <thead>\n",
       "    <tr style=\"text-align: right;\">\n",
       "      <th></th>\n",
       "      <th>Known As</th>\n",
       "      <th>Overall</th>\n",
       "      <th>Potential</th>\n",
       "      <th>Nationality</th>\n",
       "      <th>Club Name</th>\n",
       "      <th>Best Position</th>\n",
       "    </tr>\n",
       "  </thead>\n",
       "  <tbody>\n",
       "    <tr>\n",
       "      <th>21</th>\n",
       "      <td>E. Haaland</td>\n",
       "      <td>88</td>\n",
       "      <td>94</td>\n",
       "      <td>Norway</td>\n",
       "      <td>Manchester City</td>\n",
       "      <td>ST</td>\n",
       "    </tr>\n",
       "    <tr>\n",
       "      <th>63</th>\n",
       "      <td>Vinícius Jr.</td>\n",
       "      <td>86</td>\n",
       "      <td>92</td>\n",
       "      <td>Brazil</td>\n",
       "      <td>Real Madrid CF</td>\n",
       "      <td>LW</td>\n",
       "    </tr>\n",
       "    <tr>\n",
       "      <th>82</th>\n",
       "      <td>Pedri</td>\n",
       "      <td>85</td>\n",
       "      <td>93</td>\n",
       "      <td>Spain</td>\n",
       "      <td>FC Barcelona</td>\n",
       "      <td>CM</td>\n",
       "    </tr>\n",
       "    <tr>\n",
       "      <th>124</th>\n",
       "      <td>J. Bellingham</td>\n",
       "      <td>84</td>\n",
       "      <td>91</td>\n",
       "      <td>England</td>\n",
       "      <td>Borussia Dortmund</td>\n",
       "      <td>CM</td>\n",
       "    </tr>\n",
       "    <tr>\n",
       "      <th>141</th>\n",
       "      <td>A. Davies</td>\n",
       "      <td>84</td>\n",
       "      <td>89</td>\n",
       "      <td>Canada</td>\n",
       "      <td>FC Bayern München</td>\n",
       "      <td>LW</td>\n",
       "    </tr>\n",
       "    <tr>\n",
       "      <th>225</th>\n",
       "      <td>F. Wirtz</td>\n",
       "      <td>82</td>\n",
       "      <td>91</td>\n",
       "      <td>Germany</td>\n",
       "      <td>Bayer 04 Leverkusen</td>\n",
       "      <td>CAM</td>\n",
       "    </tr>\n",
       "    <tr>\n",
       "      <th>229</th>\n",
       "      <td>B. Saka</td>\n",
       "      <td>82</td>\n",
       "      <td>89</td>\n",
       "      <td>England</td>\n",
       "      <td>Arsenal</td>\n",
       "      <td>LW</td>\n",
       "    </tr>\n",
       "    <tr>\n",
       "      <th>302</th>\n",
       "      <td>J. Musiala</td>\n",
       "      <td>81</td>\n",
       "      <td>90</td>\n",
       "      <td>Germany</td>\n",
       "      <td>FC Bayern München</td>\n",
       "      <td>CAM</td>\n",
       "    </tr>\n",
       "    <tr>\n",
       "      <th>301</th>\n",
       "      <td>J. Gvardiol</td>\n",
       "      <td>81</td>\n",
       "      <td>89</td>\n",
       "      <td>Croatia</td>\n",
       "      <td>RB Leipzig</td>\n",
       "      <td>CB</td>\n",
       "    </tr>\n",
       "    <tr>\n",
       "      <th>297</th>\n",
       "      <td>Rodrygo</td>\n",
       "      <td>81</td>\n",
       "      <td>88</td>\n",
       "      <td>Brazil</td>\n",
       "      <td>Real Madrid CF</td>\n",
       "      <td>RW</td>\n",
       "    </tr>\n",
       "  </tbody>\n",
       "</table>\n",
       "</div>"
      ],
      "text/plain": [
       "          Known As  Overall  Potential Nationality            Club Name  \\\n",
       "21      E. Haaland       88         94      Norway      Manchester City   \n",
       "63    Vinícius Jr.       86         92      Brazil       Real Madrid CF   \n",
       "82           Pedri       85         93       Spain         FC Barcelona   \n",
       "124  J. Bellingham       84         91     England    Borussia Dortmund   \n",
       "141      A. Davies       84         89      Canada    FC Bayern München   \n",
       "225       F. Wirtz       82         91     Germany  Bayer 04 Leverkusen   \n",
       "229        B. Saka       82         89     England              Arsenal   \n",
       "302     J. Musiala       81         90     Germany    FC Bayern München   \n",
       "301    J. Gvardiol       81         89     Croatia           RB Leipzig   \n",
       "297        Rodrygo       81         88      Brazil       Real Madrid CF   \n",
       "\n",
       "    Best Position  \n",
       "21             ST  \n",
       "63             LW  \n",
       "82             CM  \n",
       "124            CM  \n",
       "141            LW  \n",
       "225           CAM  \n",
       "229            LW  \n",
       "302           CAM  \n",
       "301            CB  \n",
       "297            RW  "
      ]
     },
     "execution_count": 17,
     "metadata": {},
     "output_type": "execute_result"
    }
   ],
   "source": [
    "# Get top 10 Under 21 players based on Overall Rating\n",
    "get_top_10_category(df[df[\"Age\"] <= 21], [\"Overall\", \"Potential\"])"
   ]
  },
  {
   "cell_type": "code",
   "execution_count": 18,
   "id": "9339556f",
   "metadata": {},
   "outputs": [
    {
     "data": {
      "text/plain": [
       "Overall\n",
       "(46.955000000000005, 51.4]     329\n",
       "(51.4, 55.8]                   986\n",
       "(55.8, 60.2]                  2418\n",
       "(60.2, 64.6]                  4060\n",
       "(64.6, 69.0]                  5528\n",
       "(69.0, 73.4]                  2867\n",
       "(73.4, 77.8]                  1495\n",
       "(77.8, 82.2]                   658\n",
       "(82.2, 86.6]                   155\n",
       "(86.6, 91.0]                    43\n",
       "Name: count, dtype: int64"
      ]
     },
     "execution_count": 18,
     "metadata": {},
     "output_type": "execute_result"
    }
   ],
   "source": [
    "df[\"Overall\"].value_counts(bins=10, sort=False)"
   ]
  },
  {
   "cell_type": "code",
   "execution_count": 19,
   "id": "7832a41c",
   "metadata": {},
   "outputs": [
    {
     "data": {
      "text/plain": [
       "<Axes: xlabel='Overall', ylabel='Count'>"
      ]
     },
     "execution_count": 19,
     "metadata": {},
     "output_type": "execute_result"
    },
    {
     "data": {
      "image/png": "[encoded data removed]",
      "text/plain": [
       "<Figure size 640x480 with 1 Axes>"
      ]
     },
     "metadata": {},
     "output_type": "display_data"
    }
   ],
   "source": [
    "sns.histplot(x=df[\"Overall\"])"
   ]
  },
  {
   "cell_type": "markdown",
   "id": "e8ea97ff",
   "metadata": {},
   "source": [
    "Majority of the players lie between 60 to 80 Overall Rating"
   ]
  },
  {
   "cell_type": "markdown",
   "id": "0f3e00f1",
   "metadata": {},
   "source": [
    "## Height and Weight vs the Overall Rating"
   ]
  },
  {
   "cell_type": "code",
   "execution_count": 20,
   "id": "daac035f",
   "metadata": {},
   "outputs": [
    {
     "data": {
      "text/plain": [
       "<Axes: xlabel='Overall', ylabel='Height(in cm)'>"
      ]
     },
     "execution_count": 20,
     "metadata": {},
     "output_type": "execute_result"
    },
    {
     "data": {
      "image/png": "[encoded data removed]",
      "text/plain": [
       "<Figure size 640x480 with 1 Axes>"
      ]
     },
     "metadata": {},
     "output_type": "display_data"
    }
   ],
   "source": [
    "sns.histplot(x=df[\"Overall\"], y=df[\"Height(in cm)\"])"
   ]
  },
  {
   "cell_type": "code",
   "execution_count": 21,
   "id": "fb8283bd",
   "metadata": {},
   "outputs": [
    {
     "data": {
      "text/plain": [
       "<Axes: xlabel='Overall', ylabel='Weight(in kg)'>"
      ]
     },
     "execution_count": 21,
     "metadata": {},
     "output_type": "execute_result"
    },
    {
     "data": {
      "image/png": "[encoded data removed]",
      "text/plain": [
       "<Figure size 640x480 with 1 Axes>"
      ]
     },
     "metadata": {},
     "output_type": "display_data"
    }
   ],
   "source": [
    "sns.histplot(x=df[\"Overall\"], y=df[\"Weight(in kg)\"])"
   ]
  },
  {
   "cell_type": "markdown",
   "id": "c3c51ce1",
   "metadata": {},
   "source": [
    "There is no clear pattern here. Therefore, we can conclude that height and weight does not impact the overall rating of the player."
   ]
  },
  {
   "cell_type": "markdown",
   "id": "563d7c04",
   "metadata": {},
   "source": [
    "## Wage vs the Overall Rating"
   ]
  },
  {
   "cell_type": "code",
   "execution_count": 22,
   "id": "de867c9d",
   "metadata": {},
   "outputs": [
    {
     "data": {
      "text/plain": [
       "<Axes: xlabel='Overall', ylabel='Wage(in Euro)'>"
      ]
     },
     "execution_count": 22,
     "metadata": {},
     "output_type": "execute_result"
    },
    {
     "data": {
      "image/png": "[encoded data removed]",
      "text/plain": [
       "<Figure size 640x480 with 1 Axes>"
      ]
     },
     "metadata": {},
     "output_type": "display_data"
    }
   ],
   "source": [
    "sns.set_style(\"darkgrid\")\n",
    "sns.scatterplot(x=df[\"Overall\"], y=df[\"Wage(in Euro)\"])"
   ]
  },
  {
   "cell_type": "markdown",
   "id": "f82f711e",
   "metadata": {},
   "source": [
    "- Top rated players tend to have higher wages. \n",
    "- However, there are a lot of above 80 rated players that have wages below 100K euros.\n",
    "- A 90 rated player has around 80K euros wage. We can have a look at that player."
   ]
  },
  {
   "cell_type": "code",
   "execution_count": 23,
   "id": "300ebe65",
   "metadata": {},
   "outputs": [
    {
     "data": {
      "text/html": [
       "<div>\n",
       "<style scoped>\n",
       "    .dataframe tbody tr th:only-of-type {\n",
       "        vertical-align: middle;\n",
       "    }\n",
       "\n",
       "    .dataframe tbody tr th {\n",
       "        vertical-align: top;\n",
       "    }\n",
       "\n",
       "    .dataframe thead th {\n",
       "        text-align: right;\n",
       "    }\n",
       "</style>\n",
       "<table border=\"1\" class=\"dataframe\">\n",
       "  <thead>\n",
       "    <tr style=\"text-align: right;\">\n",
       "      <th></th>\n",
       "      <th>Known As</th>\n",
       "      <th>Best Position</th>\n",
       "      <th>Nationality</th>\n",
       "      <th>Club Name</th>\n",
       "      <th>Wage(in Euro)</th>\n",
       "    </tr>\n",
       "  </thead>\n",
       "  <tbody>\n",
       "    <tr>\n",
       "      <th>7</th>\n",
       "      <td>M. Neuer</td>\n",
       "      <td>GK</td>\n",
       "      <td>Germany</td>\n",
       "      <td>FC Bayern München</td>\n",
       "      <td>72000</td>\n",
       "    </tr>\n",
       "  </tbody>\n",
       "</table>\n",
       "</div>"
      ],
      "text/plain": [
       "   Known As Best Position Nationality          Club Name  Wage(in Euro)\n",
       "7  M. Neuer            GK     Germany  FC Bayern München          72000"
      ]
     },
     "execution_count": 23,
     "metadata": {},
     "output_type": "execute_result"
    }
   ],
   "source": [
    "df.loc[(df[\"Overall\"] == 90) & (df[\"Wage(in Euro)\"] < 100000)][\n",
    "    [\"Known As\", \"Best Position\", \"Nationality\", \"Club Name\", \"Wage(in Euro)\"]\n",
    "]"
   ]
  },
  {
   "cell_type": "markdown",
   "id": "565b5ee3",
   "metadata": {},
   "source": [
    "M. Neuer the German Goalkeeper who plays for FC Bayern München has the small wage compared to other highly rated players."
   ]
  },
  {
   "cell_type": "markdown",
   "id": "158dd503",
   "metadata": {},
   "source": [
    "## Wage vs the Best Positions of players"
   ]
  },
  {
   "cell_type": "code",
   "execution_count": 24,
   "id": "3edb0fd1",
   "metadata": {},
   "outputs": [
    {
     "data": {
      "text/plain": [
       "<Axes: xlabel='Overall', ylabel='Wage(in Euro)'>"
      ]
     },
     "execution_count": 24,
     "metadata": {},
     "output_type": "execute_result"
    },
    {
     "data": {
      "image/png": "[encoded data removed]",
      "text/plain": [
       "<Figure size 640x480 with 1 Axes>"
      ]
     },
     "metadata": {},
     "output_type": "display_data"
    }
   ],
   "source": [
    "sns.scatterplot(x=df[\"Overall\"], y=df[\"Wage(in Euro)\"], hue=df[\"Best Position\"])"
   ]
  },
  {
   "cell_type": "markdown",
   "id": "39ea20aa",
   "metadata": {},
   "source": [
    "- 2 strikers earn the most wages. "
   ]
  },
  {
   "cell_type": "code",
   "execution_count": 25,
   "id": "e506cb11",
   "metadata": {},
   "outputs": [
    {
     "data": {
      "text/html": [
       "<div>\n",
       "<style scoped>\n",
       "    .dataframe tbody tr th:only-of-type {\n",
       "        vertical-align: middle;\n",
       "    }\n",
       "\n",
       "    .dataframe tbody tr th {\n",
       "        vertical-align: top;\n",
       "    }\n",
       "\n",
       "    .dataframe thead th {\n",
       "        text-align: right;\n",
       "    }\n",
       "</style>\n",
       "<table border=\"1\" class=\"dataframe\">\n",
       "  <thead>\n",
       "    <tr style=\"text-align: right;\">\n",
       "      <th></th>\n",
       "      <th>Known As</th>\n",
       "      <th>Overall</th>\n",
       "      <th>Potential</th>\n",
       "      <th>Nationality</th>\n",
       "      <th>Club Name</th>\n",
       "      <th>Best Position</th>\n",
       "      <th>Wage(in Euro)</th>\n",
       "    </tr>\n",
       "  </thead>\n",
       "  <tbody>\n",
       "    <tr>\n",
       "      <th>1</th>\n",
       "      <td>K. Benzema</td>\n",
       "      <td>91</td>\n",
       "      <td>91</td>\n",
       "      <td>France</td>\n",
       "      <td>Real Madrid CF</td>\n",
       "      <td>ST</td>\n",
       "      <td>450000</td>\n",
       "    </tr>\n",
       "    <tr>\n",
       "      <th>2</th>\n",
       "      <td>R. Lewandowski</td>\n",
       "      <td>91</td>\n",
       "      <td>91</td>\n",
       "      <td>Poland</td>\n",
       "      <td>FC Barcelona</td>\n",
       "      <td>ST</td>\n",
       "      <td>420000</td>\n",
       "    </tr>\n",
       "    <tr>\n",
       "      <th>3</th>\n",
       "      <td>K. De Bruyne</td>\n",
       "      <td>91</td>\n",
       "      <td>91</td>\n",
       "      <td>Belgium</td>\n",
       "      <td>Manchester City</td>\n",
       "      <td>CM</td>\n",
       "      <td>350000</td>\n",
       "    </tr>\n",
       "    <tr>\n",
       "      <th>28</th>\n",
       "      <td>T. Kroos</td>\n",
       "      <td>88</td>\n",
       "      <td>88</td>\n",
       "      <td>Germany</td>\n",
       "      <td>Real Madrid CF</td>\n",
       "      <td>CM</td>\n",
       "      <td>310000</td>\n",
       "    </tr>\n",
       "    <tr>\n",
       "      <th>5</th>\n",
       "      <td>M. Salah</td>\n",
       "      <td>90</td>\n",
       "      <td>90</td>\n",
       "      <td>Egypt</td>\n",
       "      <td>Liverpool</td>\n",
       "      <td>RW</td>\n",
       "      <td>270000</td>\n",
       "    </tr>\n",
       "    <tr>\n",
       "      <th>23</th>\n",
       "      <td>Bernardo Silva</td>\n",
       "      <td>88</td>\n",
       "      <td>88</td>\n",
       "      <td>Portugal</td>\n",
       "      <td>Manchester City</td>\n",
       "      <td>CAM</td>\n",
       "      <td>260000</td>\n",
       "    </tr>\n",
       "    <tr>\n",
       "      <th>6</th>\n",
       "      <td>T. Courtois</td>\n",
       "      <td>90</td>\n",
       "      <td>91</td>\n",
       "      <td>Belgium</td>\n",
       "      <td>Real Madrid CF</td>\n",
       "      <td>GK</td>\n",
       "      <td>250000</td>\n",
       "    </tr>\n",
       "    <tr>\n",
       "      <th>30</th>\n",
       "      <td>A. Rüdiger</td>\n",
       "      <td>87</td>\n",
       "      <td>88</td>\n",
       "      <td>Germany</td>\n",
       "      <td>Real Madrid CF</td>\n",
       "      <td>CB</td>\n",
       "      <td>250000</td>\n",
       "    </tr>\n",
       "    <tr>\n",
       "      <th>24</th>\n",
       "      <td>João Cancelo</td>\n",
       "      <td>88</td>\n",
       "      <td>88</td>\n",
       "      <td>Portugal</td>\n",
       "      <td>Manchester City</td>\n",
       "      <td>LB</td>\n",
       "      <td>250000</td>\n",
       "    </tr>\n",
       "    <tr>\n",
       "      <th>13</th>\n",
       "      <td>Casemiro</td>\n",
       "      <td>89</td>\n",
       "      <td>89</td>\n",
       "      <td>Brazil</td>\n",
       "      <td>Manchester United</td>\n",
       "      <td>CDM</td>\n",
       "      <td>240000</td>\n",
       "    </tr>\n",
       "  </tbody>\n",
       "</table>\n",
       "</div>"
      ],
      "text/plain": [
       "          Known As  Overall  Potential Nationality          Club Name  \\\n",
       "1       K. Benzema       91         91      France     Real Madrid CF   \n",
       "2   R. Lewandowski       91         91      Poland       FC Barcelona   \n",
       "3     K. De Bruyne       91         91     Belgium    Manchester City   \n",
       "28        T. Kroos       88         88     Germany     Real Madrid CF   \n",
       "5         M. Salah       90         90       Egypt          Liverpool   \n",
       "23  Bernardo Silva       88         88    Portugal    Manchester City   \n",
       "6      T. Courtois       90         91     Belgium     Real Madrid CF   \n",
       "30      A. Rüdiger       87         88     Germany     Real Madrid CF   \n",
       "24    João Cancelo       88         88    Portugal    Manchester City   \n",
       "13        Casemiro       89         89      Brazil  Manchester United   \n",
       "\n",
       "   Best Position  Wage(in Euro)  \n",
       "1             ST         450000  \n",
       "2             ST         420000  \n",
       "3             CM         350000  \n",
       "28            CM         310000  \n",
       "5             RW         270000  \n",
       "23           CAM         260000  \n",
       "6             GK         250000  \n",
       "30            CB         250000  \n",
       "24            LB         250000  \n",
       "13           CDM         240000  "
      ]
     },
     "execution_count": 25,
     "metadata": {},
     "output_type": "execute_result"
    }
   ],
   "source": [
    "df[\n",
    "    [\n",
    "        \"Known As\",\n",
    "        \"Overall\",\n",
    "        \"Potential\",\n",
    "        \"Nationality\",\n",
    "        \"Club Name\",\n",
    "        \"Best Position\",\n",
    "        \"Wage(in Euro)\",\n",
    "    ]\n",
    "].sort_values(by=\"Wage(in Euro)\", ascending=False).head(10)"
   ]
  },
  {
   "cell_type": "markdown",
   "id": "05b73919",
   "metadata": {},
   "source": [
    "- K. Benzema and R. Lewandowski are the highest earners and both are the strikers.\n",
    "- In the list of top 10 highest earners, 8 of them are Europeans and all of them play for European clubs.\n",
    "- 4 players play for Real Madrid CF (Spanish club) and 3 play for Manchester City (English club).\n",
    "- Both Spanish clubs and English clubs have 5 players each in the top 10 highest earners. Therefore, we can say that these countries spend the most in terms of wages.\n",
    "- We can further look into this claim.\n",
    "- Casemiro (the 10th highest earner) earns almost half of the K. Benzema (the highest earner). "
   ]
  },
  {
   "cell_type": "markdown",
   "id": "8dce62dd",
   "metadata": {},
   "source": [
    "To expand on wage more, we can look into the top 100 highest earners based on this data."
   ]
  },
  {
   "cell_type": "code",
   "execution_count": 26,
   "id": "7e43fb38",
   "metadata": {},
   "outputs": [
    {
     "data": {
      "text/html": [
       "<div>\n",
       "<style scoped>\n",
       "    .dataframe tbody tr th:only-of-type {\n",
       "        vertical-align: middle;\n",
       "    }\n",
       "\n",
       "    .dataframe tbody tr th {\n",
       "        vertical-align: top;\n",
       "    }\n",
       "\n",
       "    .dataframe thead th {\n",
       "        text-align: right;\n",
       "    }\n",
       "</style>\n",
       "<table border=\"1\" class=\"dataframe\">\n",
       "  <thead>\n",
       "    <tr style=\"text-align: right;\">\n",
       "      <th></th>\n",
       "      <th>Known As</th>\n",
       "      <th>Full Name</th>\n",
       "      <th>Overall</th>\n",
       "      <th>Potential</th>\n",
       "      <th>Value(in Euro)</th>\n",
       "      <th>Positions Played</th>\n",
       "      <th>Best Position</th>\n",
       "      <th>Nationality</th>\n",
       "      <th>Age</th>\n",
       "      <th>Height(in cm)</th>\n",
       "      <th>...</th>\n",
       "      <th>LM Rating</th>\n",
       "      <th>CM Rating</th>\n",
       "      <th>RM Rating</th>\n",
       "      <th>LWB Rating</th>\n",
       "      <th>CDM Rating</th>\n",
       "      <th>RWB Rating</th>\n",
       "      <th>LB Rating</th>\n",
       "      <th>CB Rating</th>\n",
       "      <th>RB Rating</th>\n",
       "      <th>GK Rating</th>\n",
       "    </tr>\n",
       "  </thead>\n",
       "  <tbody>\n",
       "    <tr>\n",
       "      <th>1</th>\n",
       "      <td>K. Benzema</td>\n",
       "      <td>Karim Benzema</td>\n",
       "      <td>91</td>\n",
       "      <td>91</td>\n",
       "      <td>64000000</td>\n",
       "      <td>CF,ST</td>\n",
       "      <td>ST</td>\n",
       "      <td>France</td>\n",
       "      <td>34</td>\n",
       "      <td>185</td>\n",
       "      <td>...</td>\n",
       "      <td>89</td>\n",
       "      <td>84</td>\n",
       "      <td>89</td>\n",
       "      <td>67</td>\n",
       "      <td>67</td>\n",
       "      <td>67</td>\n",
       "      <td>63</td>\n",
       "      <td>58</td>\n",
       "      <td>63</td>\n",
       "      <td>21</td>\n",
       "    </tr>\n",
       "    <tr>\n",
       "      <th>2</th>\n",
       "      <td>R. Lewandowski</td>\n",
       "      <td>Robert Lewandowski</td>\n",
       "      <td>91</td>\n",
       "      <td>91</td>\n",
       "      <td>84000000</td>\n",
       "      <td>ST</td>\n",
       "      <td>ST</td>\n",
       "      <td>Poland</td>\n",
       "      <td>33</td>\n",
       "      <td>185</td>\n",
       "      <td>...</td>\n",
       "      <td>86</td>\n",
       "      <td>83</td>\n",
       "      <td>86</td>\n",
       "      <td>67</td>\n",
       "      <td>69</td>\n",
       "      <td>67</td>\n",
       "      <td>64</td>\n",
       "      <td>63</td>\n",
       "      <td>64</td>\n",
       "      <td>22</td>\n",
       "    </tr>\n",
       "    <tr>\n",
       "      <th>3</th>\n",
       "      <td>K. De Bruyne</td>\n",
       "      <td>Kevin De Bruyne</td>\n",
       "      <td>91</td>\n",
       "      <td>91</td>\n",
       "      <td>107500000</td>\n",
       "      <td>CM,CAM</td>\n",
       "      <td>CM</td>\n",
       "      <td>Belgium</td>\n",
       "      <td>31</td>\n",
       "      <td>181</td>\n",
       "      <td>...</td>\n",
       "      <td>91</td>\n",
       "      <td>91</td>\n",
       "      <td>91</td>\n",
       "      <td>82</td>\n",
       "      <td>82</td>\n",
       "      <td>82</td>\n",
       "      <td>78</td>\n",
       "      <td>72</td>\n",
       "      <td>78</td>\n",
       "      <td>24</td>\n",
       "    </tr>\n",
       "    <tr>\n",
       "      <th>28</th>\n",
       "      <td>T. Kroos</td>\n",
       "      <td>Toni Kroos</td>\n",
       "      <td>88</td>\n",
       "      <td>88</td>\n",
       "      <td>72000000</td>\n",
       "      <td>CM</td>\n",
       "      <td>CM</td>\n",
       "      <td>Germany</td>\n",
       "      <td>32</td>\n",
       "      <td>183</td>\n",
       "      <td>...</td>\n",
       "      <td>84</td>\n",
       "      <td>88</td>\n",
       "      <td>84</td>\n",
       "      <td>80</td>\n",
       "      <td>84</td>\n",
       "      <td>80</td>\n",
       "      <td>77</td>\n",
       "      <td>74</td>\n",
       "      <td>77</td>\n",
       "      <td>22</td>\n",
       "    </tr>\n",
       "    <tr>\n",
       "      <th>5</th>\n",
       "      <td>M. Salah</td>\n",
       "      <td>Mohamed Salah</td>\n",
       "      <td>90</td>\n",
       "      <td>90</td>\n",
       "      <td>115500000</td>\n",
       "      <td>RW</td>\n",
       "      <td>RW</td>\n",
       "      <td>Egypt</td>\n",
       "      <td>30</td>\n",
       "      <td>175</td>\n",
       "      <td>...</td>\n",
       "      <td>90</td>\n",
       "      <td>85</td>\n",
       "      <td>90</td>\n",
       "      <td>74</td>\n",
       "      <td>71</td>\n",
       "      <td>74</td>\n",
       "      <td>70</td>\n",
       "      <td>61</td>\n",
       "      <td>70</td>\n",
       "      <td>25</td>\n",
       "    </tr>\n",
       "  </tbody>\n",
       "</table>\n",
       "<p>5 rows × 88 columns</p>\n",
       "</div>"
      ],
      "text/plain": [
       "          Known As           Full Name  Overall  Potential  Value(in Euro)  \\\n",
       "1       K. Benzema       Karim Benzema       91         91        64000000   \n",
       "2   R. Lewandowski  Robert Lewandowski       91         91        84000000   \n",
       "3     K. De Bruyne     Kevin De Bruyne       91         91       107500000   \n",
       "28        T. Kroos          Toni Kroos       88         88        72000000   \n",
       "5         M. Salah       Mohamed Salah       90         90       115500000   \n",
       "\n",
       "   Positions Played Best Position Nationality  Age  Height(in cm)  ...  \\\n",
       "1             CF,ST            ST      France   34            185  ...   \n",
       "2                ST            ST      Poland   33            185  ...   \n",
       "3            CM,CAM            CM     Belgium   31            181  ...   \n",
       "28               CM            CM     Germany   32            183  ...   \n",
       "5                RW            RW       Egypt   30            175  ...   \n",
       "\n",
       "    LM Rating  CM Rating  RM Rating LWB Rating  CDM Rating  RWB Rating  \\\n",
       "1          89         84         89         67          67          67   \n",
       "2          86         83         86         67          69          67   \n",
       "3          91         91         91         82          82          82   \n",
       "28         84         88         84         80          84          80   \n",
       "5          90         85         90         74          71          74   \n",
       "\n",
       "   LB Rating CB Rating RB Rating  GK Rating  \n",
       "1         63        58        63         21  \n",
       "2         64        63        64         22  \n",
       "3         78        72        78         24  \n",
       "28        77        74        77         22  \n",
       "5         70        61        70         25  \n",
       "\n",
       "[5 rows x 88 columns]"
      ]
     },
     "execution_count": 26,
     "metadata": {},
     "output_type": "execute_result"
    }
   ],
   "source": [
    "top_100_earners = df.sort_values(by=\"Wage(in Euro)\", ascending=False).head(100)\n",
    "top_100_earners.head()"
   ]
  },
  {
   "cell_type": "code",
   "execution_count": 27,
   "id": "89c453d5",
   "metadata": {},
   "outputs": [
    {
     "data": {
      "text/plain": [
       "<Axes: xlabel='Overall', ylabel='Wage(in Euro)'>"
      ]
     },
     "execution_count": 27,
     "metadata": {},
     "output_type": "execute_result"
    },
    {
     "data": {
      "image/png": "[encoded data removed]",
      "text/plain": [
       "<Figure size 640x480 with 1 Axes>"
      ]
     },
     "metadata": {},
     "output_type": "display_data"
    }
   ],
   "source": [
    "sns.regplot(x=top_100_earners[\"Overall\"], y=top_100_earners[\"Wage(in Euro)\"])"
   ]
  },
  {
   "cell_type": "markdown",
   "id": "dda89cbe",
   "metadata": {},
   "source": [
    "- General trend suggests that higher the Overall Rating, higher is their wage."
   ]
  },
  {
   "cell_type": "markdown",
   "id": "4f0dc51e",
   "metadata": {},
   "source": [
    "## Wage vs the Best Position"
   ]
  },
  {
   "cell_type": "code",
   "execution_count": 28,
   "id": "b6d0da67",
   "metadata": {},
   "outputs": [
    {
     "data": {
      "text/plain": [
       "<Axes: xlabel='Overall', ylabel='Wage(in Euro)'>"
      ]
     },
     "execution_count": 28,
     "metadata": {},
     "output_type": "execute_result"
    },
    {
     "data": {
      "image/png": "[encoded data removed]",
      "text/plain": [
       "<Figure size 640x480 with 1 Axes>"
      ]
     },
     "metadata": {},
     "output_type": "display_data"
    }
   ],
   "source": [
    "sns.scatterplot(\n",
    "    x=top_100_earners[\"Overall\"],\n",
    "    y=top_100_earners[\"Wage(in Euro)\"],\n",
    "    hue=top_100_earners[\"Best Position\"],\n",
    ")"
   ]
  },
  {
   "cell_type": "code",
   "execution_count": 29,
   "id": "e099a122",
   "metadata": {},
   "outputs": [
    {
     "data": {
      "text/plain": [
       "Best Position\n",
       "CB     18\n",
       "CM     15\n",
       "ST     13\n",
       "LW     13\n",
       "CAM     9\n",
       "RW      8\n",
       "CDM     8\n",
       "GK      7\n",
       "RB      5\n",
       "LB      4\n",
       "Name: count, dtype: int64"
      ]
     },
     "execution_count": 29,
     "metadata": {},
     "output_type": "execute_result"
    }
   ],
   "source": [
    "top_100_earners[\"Best Position\"].value_counts()"
   ]
  },
  {
   "cell_type": "markdown",
   "id": "79379aca",
   "metadata": {},
   "source": [
    "- There are 18 Center Backs (Defenders) in top 100 earners.\n",
    "- Left Backs and Right Backs (Defenders) are however not highly paid.\n",
    "- We can also look at the average salary for each position."
   ]
  },
  {
   "cell_type": "code",
   "execution_count": 30,
   "id": "ced0c9f8",
   "metadata": {},
   "outputs": [
    {
     "name": "stdout",
     "output_type": "stream",
     "text": [
      "Average wage based on position of top 100 highest earners\n"
     ]
    },
    {
     "data": {
      "text/plain": [
       "Best Position\n",
       "ST     228846.15\n",
       "LB     198750.00\n",
       "CM     189333.33\n",
       "CDM    184375.00\n",
       "GK     180714.29\n",
       "RW     178750.00\n",
       "LW     178461.54\n",
       "CAM    172777.78\n",
       "CB     168055.56\n",
       "RB     148000.00\n",
       "Name: Wage(in Euro), dtype: float64"
      ]
     },
     "execution_count": 30,
     "metadata": {},
     "output_type": "execute_result"
    }
   ],
   "source": [
    "print(\"Average wage based on position of top 100 highest earners\")\n",
    "top_100_earners.groupby(\"Best Position\")[\"Wage(in Euro)\"].mean().sort_values(\n",
    "    ascending=False\n",
    ").round(2)"
   ]
  },
  {
   "cell_type": "markdown",
   "id": "977bca8f",
   "metadata": {},
   "source": [
    "- Center Backs have a very small average salary compared to others.\n",
    "- Strikers however have the highest mean salary.\n",
    "- There is a difference of more than 60K euros in average salary of Strikers and Center Backs.\n",
    "- We can test a hypothesis that Strikers earn more than Center Backs."
   ]
  },
  {
   "cell_type": "code",
   "execution_count": 31,
   "id": "5b2dabdf",
   "metadata": {},
   "outputs": [
    {
     "data": {
      "text/plain": [
       "Best Position\n",
       "CB     3658\n",
       "ST     2635\n",
       "CAM    2311\n",
       "GK     2061\n",
       "RW     1740\n",
       "CDM    1403\n",
       "RB     1347\n",
       "LB     1268\n",
       "CM     1104\n",
       "LW     1012\n",
       "Name: count, dtype: int64"
      ]
     },
     "execution_count": 31,
     "metadata": {},
     "output_type": "execute_result"
    }
   ],
   "source": [
    "df[\"Best Position\"].value_counts()"
   ]
  },
  {
   "cell_type": "code",
   "execution_count": 32,
   "id": "8c97e116",
   "metadata": {},
   "outputs": [
    {
     "data": {
      "text/plain": [
       "Best Position\n",
       "CM     13775.23\n",
       "LW     10030.68\n",
       "CDM     9862.01\n",
       "ST      9658.88\n",
       "CAM     9039.64\n",
       "LB      8385.25\n",
       "CB      8304.00\n",
       "RB      8192.98\n",
       "RW      7669.91\n",
       "GK      6147.94\n",
       "Name: Wage(in Euro), dtype: float64"
      ]
     },
     "execution_count": 32,
     "metadata": {},
     "output_type": "execute_result"
    }
   ],
   "source": [
    "df.groupby(\"Best Position\")[\"Wage(in Euro)\"].mean().sort_values(\n",
    "    ascending=False\n",
    ").round(2)"
   ]
  },
  {
   "cell_type": "markdown",
   "id": "4ddc7559",
   "metadata": {},
   "source": [
    "- We can say that Strikers earn more than Center Backs overall."
   ]
  },
  {
   "cell_type": "markdown",
   "id": "0279d41d",
   "metadata": {},
   "source": [
    "## Wage vs the Nationality of top 100 earners"
   ]
  },
  {
   "cell_type": "code",
   "execution_count": 33,
   "id": "6bed3b85",
   "metadata": {},
   "outputs": [
    {
     "data": {
      "text/plain": [
       "Nationality\n",
       "Brazil            13\n",
       "France            12\n",
       "England           12\n",
       "Spain             12\n",
       "Germany            6\n",
       "Portugal           6\n",
       "Belgium            4\n",
       "Netherlands        3\n",
       "Croatia            3\n",
       "Argentina          3\n",
       "Italy              3\n",
       "Senegal            3\n",
       "Serbia             2\n",
       "Denmark            2\n",
       "Poland             2\n",
       "Uruguay            2\n",
       "Egypt              1\n",
       "Cameroon           1\n",
       "Morocco            1\n",
       "Colombia           1\n",
       "Scotland           1\n",
       "Côte d'Ivoire      1\n",
       "Gabon              1\n",
       "Austria            1\n",
       "Algeria            1\n",
       "Norway             1\n",
       "Korea Republic     1\n",
       "Switzerland        1\n",
       "Name: count, dtype: int64"
      ]
     },
     "execution_count": 33,
     "metadata": {},
     "output_type": "execute_result"
    }
   ],
   "source": [
    "top_100_earners[\"Nationality\"].value_counts()"
   ]
  },
  {
   "cell_type": "markdown",
   "id": "04008729",
   "metadata": {},
   "source": [
    "- Majority of the players in the top 100 earners are European players.\n",
    "- Out of the 100 top earners, 13 are Brazilian, 12 are French, 12 are English and 12 are Spanish players (49 out of 100 players)\n"
   ]
  },
  {
   "cell_type": "markdown",
   "id": "48624012",
   "metadata": {},
   "source": [
    "## Wage vs Value of player"
   ]
  },
  {
   "cell_type": "code",
   "execution_count": null,
   "id": "e9d631f6",
   "metadata": {},
   "outputs": [],
   "source": []
  },
  {
   "cell_type": "code",
   "execution_count": null,
   "id": "2ad9c156",
   "metadata": {},
   "outputs": [],
   "source": []
  },
  {
   "cell_type": "code",
   "execution_count": null,
   "id": "e97a38a9",
   "metadata": {},
   "outputs": [],
   "source": []
  }
 ],
 "metadata": {
  "kernelspec": {
   "display_name": "Python 3 (ipykernel)",
   "language": "python",
   "name": "python3"
  },
  "language_info": {
   "codemirror_mode": {
    "name": "ipython",
    "version": 3
   },
   "file_extension": ".py",
   "mimetype": "text/x-python",
   "name": "python",
   "nbconvert_exporter": "python",
   "pygments_lexer": "ipython3",
   "version": "3.11.0"
  }
 },
 "nbformat": 4,
 "nbformat_minor": 5
}
